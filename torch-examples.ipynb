{
 "cells": [
  {
   "cell_type": "code",
   "execution_count": 35,
   "metadata": {},
   "outputs": [],
   "source": [
    "import torch"
   ]
  },
  {
   "cell_type": "code",
   "execution_count": 36,
   "metadata": {},
   "outputs": [
    {
     "name": "stdout",
     "output_type": "stream",
     "text": [
      "Jumlah GPU yang tersedia: 1\n",
      "GPU yang sedang digunakan: NVIDIA GeForce RTX 3050 Laptop GPU\n"
     ]
    }
   ],
   "source": [
    "# Periksa apakah CUDA (GPU) tersedia\n",
    "if torch.cuda.is_available():\n",
    "    # Dapatkan jumlah GPU yang tersedia\n",
    "    num_gpus = torch.cuda.device_count()\n",
    "    print(f\"Jumlah GPU yang tersedia: {num_gpus}\")\n",
    "\n",
    "    # Tampilkan informasi tentang GPU yang sedang digunakan\n",
    "    current_device = torch.cuda.current_device()\n",
    "    device_name = torch.cuda.get_device_name(current_device)\n",
    "    print(f\"GPU yang sedang digunakan: {device_name}\")\n",
    "else:\n",
    "    print(\"CUDA (GPU) tidak tersedia.\")"
   ]
  },
  {
   "cell_type": "code",
   "execution_count": 37,
   "metadata": {},
   "outputs": [
    {
     "data": {
      "text/plain": [
       "tensor([-74,  63, -91,  82, -46, -48])"
      ]
     },
     "execution_count": 37,
     "metadata": {},
     "output_type": "execute_result"
    }
   ],
   "source": [
    "randint = torch.randint(-100,100,(6,))\n",
    "randint"
   ]
  },
  {
   "cell_type": "code",
   "execution_count": 38,
   "metadata": {},
   "outputs": [
    {
     "data": {
      "text/plain": [
       "tensor([[0.1000, 1.2000],\n",
       "        [2.2000, 3.1000],\n",
       "        [4.9000, 5.2000]])"
      ]
     },
     "execution_count": 38,
     "metadata": {},
     "output_type": "execute_result"
    }
   ],
   "source": [
    "tensor = torch.tensor([[0.1,1.2], [2.2, 3.1], [4.9, 5.2]])\n",
    "tensor"
   ]
  },
  {
   "cell_type": "code",
   "execution_count": 39,
   "metadata": {},
   "outputs": [
    {
     "data": {
      "text/plain": [
       "tensor([[0., 0., 0.],\n",
       "        [0., 0., 0.]])"
      ]
     },
     "execution_count": 39,
     "metadata": {},
     "output_type": "execute_result"
    }
   ],
   "source": [
    "zeros = torch.zeros(2, 3)\n",
    "zeros"
   ]
  },
  {
   "cell_type": "code",
   "execution_count": 40,
   "metadata": {},
   "outputs": [
    {
     "data": {
      "text/plain": [
       "tensor([[1., 1., 1., 1.],\n",
       "        [1., 1., 1., 1.],\n",
       "        [1., 1., 1., 1.]])"
      ]
     },
     "execution_count": 40,
     "metadata": {},
     "output_type": "execute_result"
    }
   ],
   "source": [
    "ones = torch.ones(3,4)\n",
    "ones"
   ]
  },
  {
   "cell_type": "code",
   "execution_count": 41,
   "metadata": {},
   "outputs": [
    {
     "data": {
      "text/plain": [
       "tensor([[ 3.0000,  4.7500,  6.5000],\n",
       "        [ 8.2500, 10.0000,  0.0000]])"
      ]
     },
     "execution_count": 41,
     "metadata": {},
     "output_type": "execute_result"
    }
   ],
   "source": [
    "input = torch.empty(2,3)\n",
    "input"
   ]
  },
  {
   "cell_type": "code",
   "execution_count": 42,
   "metadata": {},
   "outputs": [
    {
     "data": {
      "text/plain": [
       "tensor([0, 1, 2, 3, 4])"
      ]
     },
     "execution_count": 42,
     "metadata": {},
     "output_type": "execute_result"
    }
   ],
   "source": [
    "arange = torch.arange(5)\n",
    "arange"
   ]
  },
  {
   "cell_type": "code",
   "execution_count": 43,
   "metadata": {},
   "outputs": [
    {
     "data": {
      "text/plain": [
       "tensor([ 3.0000,  4.7500,  6.5000,  8.2500, 10.0000])"
      ]
     },
     "execution_count": 43,
     "metadata": {},
     "output_type": "execute_result"
    }
   ],
   "source": [
    "linspace = torch.linspace(3, 10, steps=5)\n",
    "linspace"
   ]
  },
  {
   "cell_type": "code",
   "execution_count": 44,
   "metadata": {},
   "outputs": [
    {
     "data": {
      "text/plain": [
       "tensor([1.0000e-10, 1.0000e-05, 1.0000e+00, 1.0000e+05, 1.0000e+10])"
      ]
     },
     "execution_count": 44,
     "metadata": {},
     "output_type": "execute_result"
    }
   ],
   "source": [
    "logspace = torch.logspace(start=-10, end=10, steps=5)\n",
    "logspace"
   ]
  },
  {
   "cell_type": "code",
   "execution_count": 45,
   "metadata": {},
   "outputs": [
    {
     "data": {
      "text/plain": [
       "tensor([[1., 0., 0., 0., 0.],\n",
       "        [0., 1., 0., 0., 0.],\n",
       "        [0., 0., 1., 0., 0.],\n",
       "        [0., 0., 0., 1., 0.],\n",
       "        [0., 0., 0., 0., 1.]])"
      ]
     },
     "execution_count": 45,
     "metadata": {},
     "output_type": "execute_result"
    }
   ],
   "source": [
    "eye = torch.eye(5)\n",
    "eye"
   ]
  },
  {
   "cell_type": "code",
   "execution_count": 46,
   "metadata": {},
   "outputs": [
    {
     "data": {
      "text/plain": [
       "tensor([[4575657222473777152, 4575657222473777152, 4575657222473777152],\n",
       "        [4575657222473777152, 4575657222473777152, 4575657222473777152]])"
      ]
     },
     "execution_count": 46,
     "metadata": {},
     "output_type": "execute_result"
    }
   ],
   "source": [
    "a = torch.empty((2,3), dtype=torch.int64)\n",
    "empty_like = torch.empty_like(a)\n",
    "empty_like"
   ]
  },
  {
   "cell_type": "code",
   "execution_count": 47,
   "metadata": {},
   "outputs": [
    {
     "name": "stdout",
     "output_type": "stream",
     "text": [
      "cude\n"
     ]
    }
   ],
   "source": [
    "# melihat perangkat GPU\n",
    "device = 'cude' if torch.cuda.is_available() else 'cpu'\n",
    "print(device)"
   ]
  },
  {
   "cell_type": "code",
   "execution_count": 48,
   "metadata": {},
   "outputs": [],
   "source": [
    "device = torch.device('cuda')"
   ]
  },
  {
   "cell_type": "code",
   "execution_count": 49,
   "metadata": {},
   "outputs": [],
   "source": [
    "import numpy as np\n",
    "import time"
   ]
  },
  {
   "cell_type": "code",
   "execution_count": 50,
   "metadata": {},
   "outputs": [
    {
     "name": "stdout",
     "output_type": "stream",
     "text": [
      "0.0010113716\n"
     ]
    }
   ],
   "source": [
    "start_time = time.time()\n",
    "# matrix operations here\n",
    "zeros = torch.zeros(1,1)\n",
    "end_time = time.time()\n",
    "\n",
    "elapsed_time = end_time - start_time\n",
    "print(f\"{elapsed_time:.10f}\")"
   ]
  },
  {
   "cell_type": "code",
   "execution_count": 51,
   "metadata": {},
   "outputs": [
    {
     "name": "stdout",
     "output_type": "stream",
     "text": [
      "0.04569459\n",
      "0.1259393692\n"
     ]
    }
   ],
   "source": [
    "torch_rand1 = torch.rand(100, 100, 100, 100).to(device)\n",
    "torch_rand2 = torch.rand(100, 100, 100, 100).to(device)\n",
    "np_rand1 = torch.rand(100, 100, 100, 100)\n",
    "np_rand2 = torch.rand(100, 100, 100, 100)\n",
    "\n",
    "start_time = time.time()\n",
    "\n",
    "rand = (torch_rand1 @ torch_rand2)\n",
    "\n",
    "end_time = time.time()\n",
    "\n",
    "elapsed_time = end_time - start_time\n",
    "print(f\"{elapsed_time:.8f}\")\n",
    "\n",
    "start_time = time.time()\n",
    "\n",
    "rand = np.multiply(np_rand1, np_rand2)\n",
    "end_time = time.time()\n",
    "elapsed_time = end_time - start_time\n",
    "print(f\"{elapsed_time:.10f}\")"
   ]
  },
  {
   "cell_type": "code",
   "execution_count": 52,
   "metadata": {},
   "outputs": [
    {
     "name": "stdout",
     "output_type": "stream",
     "text": [
      "tensor([1, 0, 0, 1, 0, 1, 1, 1, 0, 1])\n"
     ]
    }
   ],
   "source": [
    "# Define a probability tensor\n",
    "probabilities = torch.tensor([0.1, 0.9])\n",
    "\n",
    "# Draw 5 simples from the multinominal ditribusi\n",
    "samples = torch.multinomial(probabilities, num_samples=10, replacement=True)\n",
    "print(samples)"
   ]
  },
  {
   "cell_type": "code",
   "execution_count": 53,
   "metadata": {},
   "outputs": [
    {
     "data": {
      "text/plain": [
       "tensor([1, 2, 3, 4, 5])"
      ]
     },
     "execution_count": 53,
     "metadata": {},
     "output_type": "execute_result"
    }
   ],
   "source": [
    "tensor = torch.tensor([1,2,3,4])\n",
    "out = torch.cat((tensor, torch.tensor([5])),dim=0)\n",
    "out"
   ]
  },
  {
   "cell_type": "code",
   "execution_count": 54,
   "metadata": {},
   "outputs": [
    {
     "data": {
      "text/plain": [
       "tensor([[1., 0., 0., 0., 0.],\n",
       "        [1., 1., 0., 0., 0.],\n",
       "        [1., 1., 1., 0., 0.],\n",
       "        [1., 1., 1., 1., 0.],\n",
       "        [1., 1., 1., 1., 1.]])"
      ]
     },
     "execution_count": 54,
     "metadata": {},
     "output_type": "execute_result"
    }
   ],
   "source": [
    "out = torch.tril(torch.ones(5,5))\n",
    "out"
   ]
  },
  {
   "cell_type": "code",
   "execution_count": 55,
   "metadata": {},
   "outputs": [
    {
     "data": {
      "text/plain": [
       "tensor([[1., 1., 1., 1., 1.],\n",
       "        [0., 1., 1., 1., 1.],\n",
       "        [0., 0., 1., 1., 1.],\n",
       "        [0., 0., 0., 1., 1.],\n",
       "        [0., 0., 0., 0., 1.]])"
      ]
     },
     "execution_count": 55,
     "metadata": {},
     "output_type": "execute_result"
    }
   ],
   "source": [
    "out = torch.triu(torch.ones(5,5))\n",
    "out"
   ]
  },
  {
   "cell_type": "code",
   "execution_count": 56,
   "metadata": {},
   "outputs": [
    {
     "data": {
      "text/plain": [
       "tensor([[0., -inf, -inf, -inf, -inf],\n",
       "        [0., 0., -inf, -inf, -inf],\n",
       "        [0., 0., 0., -inf, -inf],\n",
       "        [0., 0., 0., 0., -inf],\n",
       "        [0., 0., 0., 0., 0.]])"
      ]
     },
     "execution_count": 56,
     "metadata": {},
     "output_type": "execute_result"
    }
   ],
   "source": [
    "out = torch.zeros(5, 5).masked_fill(torch.tril(torch.ones(5,5)) == 0,float('-inf'))\n",
    "out"
   ]
  },
  {
   "cell_type": "code",
   "execution_count": 57,
   "metadata": {},
   "outputs": [
    {
     "data": {
      "text/plain": [
       "tensor([[1., 0., 0., 0., 0.],\n",
       "        [1., 1., 0., 0., 0.],\n",
       "        [1., 1., 1., 0., 0.],\n",
       "        [1., 1., 1., 1., 0.],\n",
       "        [1., 1., 1., 1., 1.]])"
      ]
     },
     "execution_count": 57,
     "metadata": {},
     "output_type": "execute_result"
    }
   ],
   "source": [
    "torch.exp(out)"
   ]
  },
  {
   "cell_type": "code",
   "execution_count": 58,
   "metadata": {},
   "outputs": [
    {
     "data": {
      "text/plain": [
       "torch.Size([4, 3, 2])"
      ]
     },
     "execution_count": 58,
     "metadata": {},
     "output_type": "execute_result"
    }
   ],
   "source": [
    "input = torch.zeros(2,3,4)\n",
    "out = input.transpose(0,2)\n",
    "out.shape"
   ]
  },
  {
   "cell_type": "code",
   "execution_count": 59,
   "metadata": {},
   "outputs": [
    {
     "data": {
      "text/plain": [
       "tensor([[1, 2, 3],\n",
       "        [4, 5, 6],\n",
       "        [7, 8, 9]])"
      ]
     },
     "execution_count": 59,
     "metadata": {},
     "output_type": "execute_result"
    }
   ],
   "source": [
    "tensor1 = torch.tensor([1,2,3])\n",
    "tensor2 = torch.tensor([4,5,6])\n",
    "tensor3 = torch.tensor([7,8,9])\n",
    "\n",
    "# stack the tensors along a new dimension\n",
    "stacked_tensor = torch.stack([tensor1,tensor2,tensor3])\n",
    "stacked_tensor"
   ]
  },
  {
   "cell_type": "code",
   "execution_count": 60,
   "metadata": {},
   "outputs": [
    {
     "name": "stdout",
     "output_type": "stream",
     "text": [
      "tensor([ 8.0206, 10.3018, -4.7118], grad_fn=<SqueezeBackward4>)\n"
     ]
    }
   ],
   "source": [
    "import torch.nn as nn\n",
    "sample = torch.tensor([10.,10.,10.])\n",
    "linear = nn.Linear(3, 3, bias= False)\n",
    "print(linear(sample))"
   ]
  },
  {
   "cell_type": "code",
   "execution_count": 61,
   "metadata": {},
   "outputs": [
    {
     "name": "stdout",
     "output_type": "stream",
     "text": [
      "tensor([0.0900, 0.2447, 0.6652])\n"
     ]
    }
   ],
   "source": [
    "import torch.nn.functional as F\n",
    "\n",
    "# create a tensor\n",
    "tensor1 = torch.tensor([1.0,2.0,3.0])\n",
    "\n",
    "# Apply softmax using torch.nn.functional.softmax\n",
    "softmax_output = F.softmax(tensor1, dim=0)\n",
    "\n",
    "print(softmax_output)"
   ]
  },
  {
   "cell_type": "code",
   "execution_count": 62,
   "metadata": {},
   "outputs": [
    {
     "name": "stdout",
     "output_type": "stream",
     "text": [
      "torch.Size([4, 6])\n",
      "tensor([[ 1.4984,  1.1955, -1.4528, -0.4856,  0.2816,  0.5452],\n",
      "        [ 0.4629, -0.5137,  1.1773, -0.4471, -0.6302,  0.5282],\n",
      "        [-0.0100,  0.2727,  2.3499,  1.0518,  0.8267,  0.7499],\n",
      "        [ 2.2715,  0.0515, -0.0751,  1.1689,  0.3511, -0.4781]],\n",
      "       grad_fn=<EmbeddingBackward0>)\n"
     ]
    }
   ],
   "source": [
    "# initialize on embedding layer\n",
    "vocab_size = 80\n",
    "embedding_dim = 6\n",
    "embedding = nn.Embedding(vocab_size, embedding_dim)\n",
    "\n",
    "# create same input indices\n",
    "input_indices = torch.LongTensor([1, 5, 3, 2])\n",
    "\n",
    "# Apply the embedding layer\n",
    "embedding_output = embedding(input_indices)\n",
    "\n",
    "# the output will be a Tensor of shape(4, 100), where 4 is the number of input\n",
    "# and 100 is the dimensionality of the embedding vectors\n",
    "print(embedding_output.shape)\n",
    "print(embedding_output)"
   ]
  },
  {
   "cell_type": "code",
   "execution_count": 63,
   "metadata": {},
   "outputs": [
    {
     "name": "stdout",
     "output_type": "stream",
     "text": [
      "tensor([[ 27,  30,  33],\n",
      "        [ 61,  68,  75],\n",
      "        [ 95, 106, 117]])\n",
      "tensor([[ 27,  30,  33],\n",
      "        [ 61,  68,  75],\n",
      "        [ 95, 106, 117]])\n"
     ]
    }
   ],
   "source": [
    "a = torch.tensor([[1,2],[3,4],[5,6]])\n",
    "b = torch.tensor([[7,8,9],[10,11,12]])\n",
    "\n",
    "print( a @ b)\n",
    "print(torch.matmul(a,b))"
   ]
  },
  {
   "cell_type": "code",
   "execution_count": 64,
   "metadata": {},
   "outputs": [
    {
     "name": "stdout",
     "output_type": "stream",
     "text": [
      "tensor([[0., 0., 0.],\n",
      "        [0., 0., 0.],\n",
      "        [0., 0., 0.]])\n"
     ]
    }
   ],
   "source": [
    "# type int64\n",
    "int_64 = torch.randint(1, (3,2)).float()\n",
    "# type float32\n",
    "float_32 = torch.rand(2,3)\n",
    "#print(int_64.dtype, float_32.dtype)\n",
    "result = torch.matmul(int_64, float_32)\n",
    "print(result)"
   ]
  },
  {
   "cell_type": "code",
   "execution_count": 65,
   "metadata": {},
   "outputs": [
    {
     "name": "stdout",
     "output_type": "stream",
     "text": [
      "torch.Size([2, 3, 5])\n",
      "2 3 5\n"
     ]
    }
   ],
   "source": [
    "a = torch.rand(2,3,5)\n",
    "print(a.shape)\n",
    "x,y,z = a.shape\n",
    "a = a.view(x,y,z)\n",
    "#print(a.shape)\n",
    "print(x,y,z)"
   ]
  },
  {
   "cell_type": "code",
   "execution_count": 66,
   "metadata": {},
   "outputs": [
    {
     "name": "stdout",
     "output_type": "stream",
     "text": [
      "tensor([[0.6162, 0.1937, 0.9112, 0.6302, 0.0290, 0.7109, 0.4907, 0.8285, 0.9830,\n",
      "         0.4421],\n",
      "        [0.1691, 0.8901, 0.9002, 0.4778, 0.6776, 0.2973, 0.4545, 0.2770, 0.8290,\n",
      "         0.3365],\n",
      "        [0.0017, 0.3868, 0.9970, 0.5678, 0.7368, 0.9889, 0.1052, 0.6653, 0.1053,\n",
      "         0.6363],\n",
      "        [0.3431, 0.9832, 0.5434, 0.6817, 0.4872, 0.1235, 0.5305, 0.4286, 0.3383,\n",
      "         0.4707],\n",
      "        [0.3263, 0.1104, 0.7143, 0.6885, 0.7659, 0.1008, 0.0779, 0.8334, 0.8286,\n",
      "         0.1163],\n",
      "        [0.2609, 0.2499, 0.8119, 0.4298, 0.1213, 0.9176, 0.1310, 0.9867, 0.4495,\n",
      "         0.3186],\n",
      "        [0.2870, 0.3308, 0.3611, 0.3251, 0.8186, 0.2167, 0.4664, 0.9501, 0.3704,\n",
      "         0.9745],\n",
      "        [0.4005, 0.6098, 0.5579, 0.3510, 0.9011, 0.7223, 0.6827, 0.8189, 0.1530,\n",
      "         0.0926],\n",
      "        [0.2136, 0.4295, 0.2711, 0.6960, 0.0533, 0.2293, 0.6921, 0.3045, 0.2360,\n",
      "         0.3967],\n",
      "        [0.4449, 0.6243, 0.3657, 0.7925, 0.2968, 0.9304, 0.2008, 0.1405, 0.6886,\n",
      "         0.4977],\n",
      "        [0.5388, 0.9765, 0.8492, 0.5919, 0.1985, 0.0960, 0.3601, 0.2224, 0.3804,\n",
      "         0.1119],\n",
      "        [0.6444, 0.8039, 0.9045, 0.1262, 0.5326, 0.3125, 0.0104, 0.4540, 0.6267,\n",
      "         0.6168],\n",
      "        [0.0604, 0.1643, 0.8206, 0.7497, 0.8657, 0.7544, 0.6426, 0.3763, 0.8808,\n",
      "         0.4568],\n",
      "        [0.3865, 0.9624, 0.6466, 0.4177, 0.1020, 0.9176, 0.7410, 0.6712, 0.7170,\n",
      "         0.4336],\n",
      "        [0.4205, 0.7215, 0.2401, 0.9932, 0.2337, 0.3979, 0.4870, 0.4004, 0.8597,\n",
      "         0.0108],\n",
      "        [0.8854, 0.1302, 0.3953, 0.2393, 0.5965, 0.7080, 0.2745, 0.6620, 0.3353,\n",
      "         0.6061],\n",
      "        [0.4622, 0.3467, 0.1300, 0.7344, 0.7510, 0.6678, 0.0017, 0.0737, 0.5244,\n",
      "         0.5294],\n",
      "        [0.1052, 0.6442, 0.8219, 0.5164, 0.3201, 0.5785, 0.0119, 0.0725, 0.6230,\n",
      "         0.3188],\n",
      "        [0.7757, 0.0072, 0.1156, 0.2843, 0.1231, 0.2167, 0.5904, 0.8967, 0.3803,\n",
      "         0.3739],\n",
      "        [0.6394, 0.1528, 0.7562, 0.9718, 0.7132, 0.7496, 0.9910, 0.4230, 0.6308,\n",
      "         0.5026],\n",
      "        [0.9515, 0.2044, 0.4038, 0.4927, 0.4882, 0.3624, 0.5207, 0.9982, 0.2494,\n",
      "         0.4539],\n",
      "        [0.4312, 0.6071, 0.1054, 0.8753, 0.5967, 0.0227, 0.9374, 0.9705, 0.6958,\n",
      "         0.1212],\n",
      "        [0.3392, 0.5001, 0.4131, 0.8925, 0.5251, 0.3200, 0.2149, 0.5036, 0.9323,\n",
      "         0.7472],\n",
      "        [0.2674, 0.2015, 0.3300, 0.3626, 0.8986, 0.0389, 0.2677, 0.9649, 0.4116,\n",
      "         0.0103],\n",
      "        [0.1199, 0.0546, 0.9676, 0.3093, 0.9532, 0.1271, 0.3047, 0.5555, 0.8228,\n",
      "         0.5890],\n",
      "        [0.0122, 0.1926, 0.4550, 0.3744, 0.9053, 0.6995, 0.1303, 0.3085, 0.5680,\n",
      "         0.3568],\n",
      "        [0.5960, 0.2815, 0.9471, 0.4983, 0.9598, 0.6261, 0.8546, 0.8661, 0.4790,\n",
      "         0.4878],\n",
      "        [0.8601, 0.9528, 0.3168, 0.7627, 0.7619, 0.2556, 0.4245, 0.7564, 0.8634,\n",
      "         0.1453],\n",
      "        [0.1701, 0.6792, 0.8522, 0.5628, 0.2734, 0.3940, 0.7358, 0.3507, 0.0256,\n",
      "         0.1590],\n",
      "        [0.7335, 0.7395, 0.4577, 0.9147, 0.8987, 0.5704, 0.6420, 0.2880, 0.7441,\n",
      "         0.9199],\n",
      "        [0.8894, 0.5670, 0.3032, 0.3590, 0.2380, 0.4664, 0.3779, 0.1236, 0.5184,\n",
      "         0.1673],\n",
      "        [0.3354, 0.1276, 0.7900, 0.1622, 0.5330, 0.7529, 0.7909, 0.9279, 0.8054,\n",
      "         0.5380]])\n"
     ]
    }
   ],
   "source": [
    "input = torch.rand((4,8,10))\n",
    "B,T,C = input.shape\n",
    "output = input.view(B*T, C)\n",
    "print(output)\n",
    "#print(input)\n",
    "#print(output[:, -1, :])\n",
    "last_column = output[:, -1]"
   ]
  },
  {
   "cell_type": "code",
   "execution_count": 67,
   "metadata": {},
   "outputs": [
    {
     "name": "stdout",
     "output_type": "stream",
     "text": [
      "ReLU(inplace=True)\n"
     ]
    }
   ],
   "source": [
    "x = torch.tensor([-0.05], dtype=torch.float32)\n",
    "y = nn.ReLU(x)\n",
    "print(y)"
   ]
  },
  {
   "cell_type": "code",
   "execution_count": 68,
   "metadata": {},
   "outputs": [
    {
     "name": "stdout",
     "output_type": "stream",
     "text": [
      "tensor([0.4875])\n"
     ]
    }
   ],
   "source": [
    "y = F.sigmoid(x)\n",
    "print(y)"
   ]
  },
  {
   "cell_type": "code",
   "execution_count": 69,
   "metadata": {},
   "outputs": [
    {
     "name": "stdout",
     "output_type": "stream",
     "text": [
      "tensor([-0.0500])\n"
     ]
    }
   ],
   "source": [
    "y = F.tanh(x)\n",
    "print(y)"
   ]
  }
 ],
 "metadata": {
  "kernelspec": {
   "display_name": "deep_reinforcement_learning",
   "language": "python",
   "name": "python3"
  },
  "language_info": {
   "codemirror_mode": {
    "name": "ipython",
    "version": 3
   },
   "file_extension": ".py",
   "mimetype": "text/x-python",
   "name": "python",
   "nbconvert_exporter": "python",
   "pygments_lexer": "ipython3",
   "version": "3.9.18"
  }
 },
 "nbformat": 4,
 "nbformat_minor": 2
}
