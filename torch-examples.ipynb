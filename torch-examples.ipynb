{
 "cells": [
  {
   "cell_type": "code",
   "execution_count": 1,
   "metadata": {},
   "outputs": [],
   "source": [
    "import torch"
   ]
  },
  {
   "cell_type": "code",
   "execution_count": 2,
   "metadata": {},
   "outputs": [
    {
     "name": "stdout",
     "output_type": "stream",
     "text": [
      "Jumlah GPU yang tersedia: 1\n",
      "GPU yang sedang digunakan: NVIDIA GeForce RTX 3050 Laptop GPU\n"
     ]
    }
   ],
   "source": [
    "# Periksa apakah CUDA (GPU) tersedia\n",
    "if torch.cuda.is_available():\n",
    "    # Dapatkan jumlah GPU yang tersedia\n",
    "    num_gpus = torch.cuda.device_count()\n",
    "    print(f\"Jumlah GPU yang tersedia: {num_gpus}\")\n",
    "\n",
    "    # Tampilkan informasi tentang GPU yang sedang digunakan\n",
    "    current_device = torch.cuda.current_device()\n",
    "    device_name = torch.cuda.get_device_name(current_device)\n",
    "    print(f\"GPU yang sedang digunakan: {device_name}\")\n",
    "else:\n",
    "    print(\"CUDA (GPU) tidak tersedia.\")"
   ]
  },
  {
   "cell_type": "code",
   "execution_count": 3,
   "metadata": {},
   "outputs": [
    {
     "data": {
      "text/plain": [
       "tensor([ 42,  93,  76, -26,  57, -88])"
      ]
     },
     "execution_count": 3,
     "metadata": {},
     "output_type": "execute_result"
    }
   ],
   "source": [
    "randint = torch.randint(-100,100,(6,))\n",
    "randint"
   ]
  },
  {
   "cell_type": "code",
   "execution_count": 4,
   "metadata": {},
   "outputs": [
    {
     "data": {
      "text/plain": [
       "tensor([[0.1000, 1.2000],\n",
       "        [2.2000, 3.1000],\n",
       "        [4.9000, 5.2000]])"
      ]
     },
     "execution_count": 4,
     "metadata": {},
     "output_type": "execute_result"
    }
   ],
   "source": [
    "tensor = torch.tensor([[0.1,1.2], [2.2, 3.1], [4.9, 5.2]])\n",
    "tensor"
   ]
  },
  {
   "cell_type": "code",
   "execution_count": 5,
   "metadata": {},
   "outputs": [
    {
     "data": {
      "text/plain": [
       "tensor([[0., 0., 0.],\n",
       "        [0., 0., 0.]])"
      ]
     },
     "execution_count": 5,
     "metadata": {},
     "output_type": "execute_result"
    }
   ],
   "source": [
    "zeros = torch.zeros(2, 3)\n",
    "zeros"
   ]
  },
  {
   "cell_type": "code",
   "execution_count": 6,
   "metadata": {},
   "outputs": [
    {
     "data": {
      "text/plain": [
       "tensor([[1., 1., 1., 1.],\n",
       "        [1., 1., 1., 1.],\n",
       "        [1., 1., 1., 1.]])"
      ]
     },
     "execution_count": 6,
     "metadata": {},
     "output_type": "execute_result"
    }
   ],
   "source": [
    "ones = torch.ones(3,4)\n",
    "ones"
   ]
  },
  {
   "cell_type": "code",
   "execution_count": 7,
   "metadata": {},
   "outputs": [
    {
     "data": {
      "text/plain": [
       "tensor([[0., 0., 0.],\n",
       "        [0., 0., 0.]])"
      ]
     },
     "execution_count": 7,
     "metadata": {},
     "output_type": "execute_result"
    }
   ],
   "source": [
    "input = torch.empty(2,3)\n",
    "input"
   ]
  },
  {
   "cell_type": "code",
   "execution_count": 8,
   "metadata": {},
   "outputs": [
    {
     "data": {
      "text/plain": [
       "tensor([0, 1, 2, 3, 4])"
      ]
     },
     "execution_count": 8,
     "metadata": {},
     "output_type": "execute_result"
    }
   ],
   "source": [
    "arange = torch.arange(5)\n",
    "arange"
   ]
  },
  {
   "cell_type": "code",
   "execution_count": 9,
   "metadata": {},
   "outputs": [
    {
     "data": {
      "text/plain": [
       "tensor([ 3.0000,  4.7500,  6.5000,  8.2500, 10.0000])"
      ]
     },
     "execution_count": 9,
     "metadata": {},
     "output_type": "execute_result"
    }
   ],
   "source": [
    "linspace = torch.linspace(3, 10, steps=5)\n",
    "linspace"
   ]
  },
  {
   "cell_type": "code",
   "execution_count": 10,
   "metadata": {},
   "outputs": [
    {
     "data": {
      "text/plain": [
       "tensor([1.0000e-10, 1.0000e-05, 1.0000e+00, 1.0000e+05, 1.0000e+10])"
      ]
     },
     "execution_count": 10,
     "metadata": {},
     "output_type": "execute_result"
    }
   ],
   "source": [
    "logspace = torch.logspace(start=-10, end=10, steps=5)\n",
    "logspace"
   ]
  },
  {
   "cell_type": "code",
   "execution_count": 11,
   "metadata": {},
   "outputs": [
    {
     "data": {
      "text/plain": [
       "tensor([[1., 0., 0., 0., 0.],\n",
       "        [0., 1., 0., 0., 0.],\n",
       "        [0., 0., 1., 0., 0.],\n",
       "        [0., 0., 0., 1., 0.],\n",
       "        [0., 0., 0., 0., 1.]])"
      ]
     },
     "execution_count": 11,
     "metadata": {},
     "output_type": "execute_result"
    }
   ],
   "source": [
    "eye = torch.eye(5)\n",
    "eye"
   ]
  },
  {
   "cell_type": "code",
   "execution_count": 12,
   "metadata": {},
   "outputs": [
    {
     "data": {
      "text/plain": [
       "tensor([[0, 0, 0],\n",
       "        [0, 0, 0]])"
      ]
     },
     "execution_count": 12,
     "metadata": {},
     "output_type": "execute_result"
    }
   ],
   "source": [
    "a = torch.empty((2,3), dtype=torch.int64)\n",
    "empty_like = torch.empty_like(a)\n",
    "empty_like"
   ]
  },
  {
   "cell_type": "code",
   "execution_count": 13,
   "metadata": {},
   "outputs": [
    {
     "name": "stdout",
     "output_type": "stream",
     "text": [
      "cude\n"
     ]
    }
   ],
   "source": [
    "# melihat perangkat GPU\n",
    "device = 'cude' if torch.cuda.is_available() else 'cpu'\n",
    "print(device)"
   ]
  },
  {
   "cell_type": "code",
   "execution_count": 14,
   "metadata": {},
   "outputs": [],
   "source": [
    "device = torch.device('cuda')"
   ]
  },
  {
   "cell_type": "code",
   "execution_count": 15,
   "metadata": {},
   "outputs": [],
   "source": [
    "import numpy as np\n",
    "import time"
   ]
  },
  {
   "cell_type": "code",
   "execution_count": 16,
   "metadata": {},
   "outputs": [
    {
     "name": "stdout",
     "output_type": "stream",
     "text": [
      "0.0010101795\n"
     ]
    }
   ],
   "source": [
    "start_time = time.time()\n",
    "# matrix operations here\n",
    "zeros = torch.zeros(1,1)\n",
    "end_time = time.time()\n",
    "\n",
    "elapsed_time = end_time - start_time\n",
    "print(f\"{elapsed_time:.10f}\")"
   ]
  },
  {
   "cell_type": "code",
   "execution_count": 17,
   "metadata": {},
   "outputs": [
    {
     "name": "stdout",
     "output_type": "stream",
     "text": [
      "3.63966990\n",
      "0.1830909252\n"
     ]
    }
   ],
   "source": [
    "torch_rand1 = torch.rand(100, 100, 100, 100).to(device)\n",
    "torch_rand2 = torch.rand(100, 100, 100, 100).to(device)\n",
    "np_rand1 = torch.rand(100, 100, 100, 100)\n",
    "np_rand2 = torch.rand(100, 100, 100, 100)\n",
    "\n",
    "start_time = time.time()\n",
    "\n",
    "rand = (torch_rand1 @ torch_rand2)\n",
    "\n",
    "end_time = time.time()\n",
    "\n",
    "elapsed_time = end_time - start_time\n",
    "print(f\"{elapsed_time:.8f}\")\n",
    "\n",
    "start_time = time.time()\n",
    "\n",
    "rand = np.multiply(np_rand1, np_rand2)\n",
    "end_time = time.time()\n",
    "elapsed_time = end_time - start_time\n",
    "print(f\"{elapsed_time:.10f}\")"
   ]
  },
  {
   "cell_type": "code",
   "execution_count": 18,
   "metadata": {},
   "outputs": [
    {
     "name": "stdout",
     "output_type": "stream",
     "text": [
      "tensor([1, 1, 1, 1, 1, 1, 1, 1, 1, 0])\n"
     ]
    }
   ],
   "source": [
    "# Define a probability tensor\n",
    "probabilities = torch.tensor([0.1, 0.9])\n",
    "\n",
    "# Draw 5 simples from the multinominal ditribusi\n",
    "samples = torch.multinomial(probabilities, num_samples=10, replacement=True)\n",
    "print(samples)"
   ]
  },
  {
   "cell_type": "code",
   "execution_count": 19,
   "metadata": {},
   "outputs": [
    {
     "data": {
      "text/plain": [
       "tensor([1, 2, 3, 4, 5])"
      ]
     },
     "execution_count": 19,
     "metadata": {},
     "output_type": "execute_result"
    }
   ],
   "source": [
    "tensor = torch.tensor([1,2,3,4])\n",
    "out = torch.cat((tensor, torch.tensor([5])),dim=0)\n",
    "out"
   ]
  },
  {
   "cell_type": "code",
   "execution_count": 20,
   "metadata": {},
   "outputs": [
    {
     "data": {
      "text/plain": [
       "tensor([[1., 0., 0., 0., 0.],\n",
       "        [1., 1., 0., 0., 0.],\n",
       "        [1., 1., 1., 0., 0.],\n",
       "        [1., 1., 1., 1., 0.],\n",
       "        [1., 1., 1., 1., 1.]])"
      ]
     },
     "execution_count": 20,
     "metadata": {},
     "output_type": "execute_result"
    }
   ],
   "source": [
    "out = torch.tril(torch.ones(5,5))\n",
    "out"
   ]
  },
  {
   "cell_type": "code",
   "execution_count": 21,
   "metadata": {},
   "outputs": [
    {
     "data": {
      "text/plain": [
       "tensor([[1., 1., 1., 1., 1.],\n",
       "        [0., 1., 1., 1., 1.],\n",
       "        [0., 0., 1., 1., 1.],\n",
       "        [0., 0., 0., 1., 1.],\n",
       "        [0., 0., 0., 0., 1.]])"
      ]
     },
     "execution_count": 21,
     "metadata": {},
     "output_type": "execute_result"
    }
   ],
   "source": [
    "out = torch.triu(torch.ones(5,5))\n",
    "out"
   ]
  },
  {
   "cell_type": "code",
   "execution_count": 22,
   "metadata": {},
   "outputs": [
    {
     "data": {
      "text/plain": [
       "tensor([[0., -inf, -inf, -inf, -inf],\n",
       "        [0., 0., -inf, -inf, -inf],\n",
       "        [0., 0., 0., -inf, -inf],\n",
       "        [0., 0., 0., 0., -inf],\n",
       "        [0., 0., 0., 0., 0.]])"
      ]
     },
     "execution_count": 22,
     "metadata": {},
     "output_type": "execute_result"
    }
   ],
   "source": [
    "out = torch.zeros(5, 5).masked_fill(torch.tril(torch.ones(5,5)) == 0,float('-inf'))\n",
    "out"
   ]
  },
  {
   "cell_type": "code",
   "execution_count": 23,
   "metadata": {},
   "outputs": [
    {
     "data": {
      "text/plain": [
       "tensor([[1., 0., 0., 0., 0.],\n",
       "        [1., 1., 0., 0., 0.],\n",
       "        [1., 1., 1., 0., 0.],\n",
       "        [1., 1., 1., 1., 0.],\n",
       "        [1., 1., 1., 1., 1.]])"
      ]
     },
     "execution_count": 23,
     "metadata": {},
     "output_type": "execute_result"
    }
   ],
   "source": [
    "torch.exp(out)"
   ]
  },
  {
   "cell_type": "code",
   "execution_count": 24,
   "metadata": {},
   "outputs": [
    {
     "data": {
      "text/plain": [
       "torch.Size([4, 3, 2])"
      ]
     },
     "execution_count": 24,
     "metadata": {},
     "output_type": "execute_result"
    }
   ],
   "source": [
    "input = torch.zeros(2,3,4)\n",
    "out = input.transpose(0,2)\n",
    "out.shape"
   ]
  },
  {
   "cell_type": "code",
   "execution_count": 25,
   "metadata": {},
   "outputs": [
    {
     "data": {
      "text/plain": [
       "tensor([[1, 2, 3],\n",
       "        [4, 5, 6],\n",
       "        [7, 8, 9]])"
      ]
     },
     "execution_count": 25,
     "metadata": {},
     "output_type": "execute_result"
    }
   ],
   "source": [
    "tensor1 = torch.tensor([1,2,3])\n",
    "tensor2 = torch.tensor([4,5,6])\n",
    "tensor3 = torch.tensor([7,8,9])\n",
    "\n",
    "# stack the tensors along a new dimension\n",
    "stacked_tensor = torch.stack([tensor1,tensor2,tensor3])\n",
    "stacked_tensor"
   ]
  },
  {
   "cell_type": "code",
   "execution_count": 26,
   "metadata": {},
   "outputs": [
    {
     "name": "stdout",
     "output_type": "stream",
     "text": [
      "tensor([-0.2778,  1.6543, -3.6907], grad_fn=<SqueezeBackward4>)\n"
     ]
    }
   ],
   "source": [
    "import torch.nn as nn\n",
    "sample = torch.tensor([10.,10.,10.])\n",
    "linear = nn.Linear(3, 3, bias= False)\n",
    "print(linear(sample))"
   ]
  },
  {
   "cell_type": "code",
   "execution_count": 27,
   "metadata": {},
   "outputs": [
    {
     "name": "stdout",
     "output_type": "stream",
     "text": [
      "tensor([0.0900, 0.2447, 0.6652])\n"
     ]
    }
   ],
   "source": [
    "import torch.nn.functional as F\n",
    "\n",
    "# create a tensor\n",
    "tensor1 = torch.tensor([1.0,2.0,3.0])\n",
    "\n",
    "# Apply softmax using torch.nn.functional.softmax\n",
    "softmax_output = F.softmax(tensor1, dim=0)\n",
    "\n",
    "print(softmax_output)"
   ]
  },
  {
   "cell_type": "code",
   "execution_count": 28,
   "metadata": {},
   "outputs": [
    {
     "name": "stdout",
     "output_type": "stream",
     "text": [
      "torch.Size([4, 6])\n",
      "tensor([[-0.8722,  0.6991, -1.2483,  0.3776,  0.8410, -2.5456],\n",
      "        [ 0.1200, -1.7482,  0.6709, -0.7113, -0.2979, -0.1356],\n",
      "        [-0.0405, -1.0103,  0.0365,  1.0391, -1.5683,  0.4804],\n",
      "        [-0.3192,  1.6441, -0.6218, -0.1432, -1.3910, -2.1468]],\n",
      "       grad_fn=<EmbeddingBackward0>)\n"
     ]
    }
   ],
   "source": [
    "# initialize on embedding layer\n",
    "vocab_size = 80\n",
    "embedding_dim = 6\n",
    "embedding = nn.Embedding(vocab_size, embedding_dim)\n",
    "\n",
    "# create same input indices\n",
    "input_indices = torch.LongTensor([1, 5, 3, 2])\n",
    "\n",
    "# Apply the embedding layer\n",
    "embedding_output = embedding(input_indices)\n",
    "\n",
    "# the output will be a Tensor of shape(4, 100), where 4 is the number of input\n",
    "# and 100 is the dimensionality of the embedding vectors\n",
    "print(embedding_output.shape)\n",
    "print(embedding_output)"
   ]
  },
  {
   "cell_type": "code",
   "execution_count": 29,
   "metadata": {},
   "outputs": [
    {
     "name": "stdout",
     "output_type": "stream",
     "text": [
      "tensor([[ 27,  30,  33],\n",
      "        [ 61,  68,  75],\n",
      "        [ 95, 106, 117]])\n",
      "tensor([[ 27,  30,  33],\n",
      "        [ 61,  68,  75],\n",
      "        [ 95, 106, 117]])\n"
     ]
    }
   ],
   "source": [
    "a = torch.tensor([[1,2],[3,4],[5,6]])\n",
    "b = torch.tensor([[7,8,9],[10,11,12]])\n",
    "\n",
    "print( a @ b)\n",
    "print(torch.matmul(a,b))"
   ]
  },
  {
   "cell_type": "code",
   "execution_count": 30,
   "metadata": {},
   "outputs": [
    {
     "name": "stdout",
     "output_type": "stream",
     "text": [
      "tensor([[0., 0., 0.],\n",
      "        [0., 0., 0.],\n",
      "        [0., 0., 0.]])\n"
     ]
    }
   ],
   "source": [
    "# type int64\n",
    "int_64 = torch.randint(1, (3,2)).float()\n",
    "# type float32\n",
    "float_32 = torch.rand(2,3)\n",
    "#print(int_64.dtype, float_32.dtype)\n",
    "result = torch.matmul(int_64, float_32)\n",
    "print(result)"
   ]
  },
  {
   "cell_type": "code",
   "execution_count": 31,
   "metadata": {},
   "outputs": [
    {
     "name": "stdout",
     "output_type": "stream",
     "text": [
      "torch.Size([2, 3, 5])\n",
      "2 3 5\n"
     ]
    }
   ],
   "source": [
    "a = torch.rand(2,3,5)\n",
    "print(a.shape)\n",
    "x,y,z = a.shape\n",
    "a = a.view(x,y,z)\n",
    "#print(a.shape)\n",
    "print(x,y,z)"
   ]
  },
  {
   "cell_type": "code",
   "execution_count": 34,
   "metadata": {},
   "outputs": [
    {
     "name": "stdout",
     "output_type": "stream",
     "text": [
      "tensor([[8.8553e-01, 2.1199e-01, 3.0790e-01, 1.5432e-01, 9.5750e-01, 6.4523e-01,\n",
      "         6.0878e-01, 2.2314e-01, 3.7194e-01, 8.3655e-01],\n",
      "        [6.4646e-01, 2.9468e-01, 4.0354e-02, 2.1891e-01, 3.2832e-01, 3.5151e-01,\n",
      "         2.9318e-01, 4.7442e-01, 2.2846e-01, 3.2745e-01],\n",
      "        [1.1670e-01, 4.2423e-01, 2.3683e-01, 2.2944e-01, 8.1319e-01, 5.7446e-01,\n",
      "         4.0404e-01, 7.0976e-01, 4.2384e-01, 7.6167e-01],\n",
      "        [1.8744e-01, 1.1892e-01, 5.6408e-01, 6.7910e-01, 1.3561e-01, 9.3158e-01,\n",
      "         3.7891e-01, 7.2196e-03, 8.2670e-01, 2.7359e-02],\n",
      "        [6.2443e-01, 9.8999e-01, 6.2253e-01, 8.8868e-01, 5.7025e-01, 5.3440e-01,\n",
      "         9.9165e-01, 3.0417e-02, 1.9107e-01, 3.5771e-01],\n",
      "        [5.2448e-01, 6.2341e-01, 6.8300e-01, 3.7448e-01, 5.6402e-01, 7.7378e-01,\n",
      "         5.6850e-01, 2.8285e-01, 9.6824e-01, 3.4256e-01],\n",
      "        [1.1767e-01, 4.2722e-01, 9.3571e-01, 6.9583e-01, 7.7960e-01, 2.4125e-01,\n",
      "         7.6814e-01, 4.3383e-01, 2.9966e-01, 9.8439e-01],\n",
      "        [1.6539e-01, 1.9626e-02, 3.7515e-01, 8.2736e-01, 6.9623e-01, 3.0081e-01,\n",
      "         9.2916e-01, 2.8278e-01, 7.6641e-01, 6.2891e-01],\n",
      "        [2.3997e-04, 3.6377e-01, 4.9879e-02, 8.8128e-01, 8.7952e-01, 2.9396e-01,\n",
      "         6.5441e-01, 8.9782e-01, 8.0857e-01, 2.3121e-01],\n",
      "        [7.3521e-01, 8.4331e-01, 8.5731e-01, 9.5074e-01, 6.1209e-01, 9.4623e-01,\n",
      "         5.7020e-01, 1.3497e-01, 5.9550e-01, 2.6585e-01],\n",
      "        [9.2560e-01, 6.4232e-01, 4.0434e-01, 9.7934e-01, 4.9292e-01, 8.4773e-01,\n",
      "         6.4263e-01, 5.0792e-01, 2.4004e-01, 9.0935e-01],\n",
      "        [8.0342e-01, 9.9533e-01, 7.6430e-01, 5.8980e-01, 2.3925e-01, 5.9417e-02,\n",
      "         1.4380e-01, 6.7134e-01, 1.4465e-01, 7.3308e-01],\n",
      "        [5.7864e-01, 2.5123e-01, 9.6705e-02, 3.7067e-01, 7.8242e-01, 2.0342e-01,\n",
      "         1.1327e-01, 8.9701e-01, 5.3714e-01, 1.6244e-01],\n",
      "        [8.5804e-01, 1.0853e-01, 1.6567e-01, 1.3604e-01, 4.0738e-01, 8.2958e-01,\n",
      "         1.0332e-02, 1.1445e-01, 3.8042e-01, 5.6757e-01],\n",
      "        [8.3409e-01, 3.9510e-01, 4.9615e-01, 2.8822e-01, 4.8306e-01, 2.2184e-01,\n",
      "         1.3225e-01, 3.7861e-02, 7.1848e-01, 9.6742e-01],\n",
      "        [2.5182e-01, 5.3941e-01, 8.2494e-01, 6.7145e-01, 9.0943e-01, 1.6247e-01,\n",
      "         3.3521e-01, 5.4020e-01, 5.3609e-01, 9.7537e-01],\n",
      "        [1.5179e-01, 6.7229e-01, 9.6425e-01, 6.6225e-01, 8.1180e-01, 7.5254e-01,\n",
      "         3.2971e-01, 5.3519e-01, 4.2892e-01, 4.7748e-01],\n",
      "        [7.9075e-01, 9.4199e-01, 3.4122e-01, 5.3007e-01, 9.4286e-01, 6.1342e-01,\n",
      "         5.9907e-01, 9.3796e-01, 1.9749e-01, 6.8289e-02],\n",
      "        [3.9335e-01, 2.4790e-01, 6.2847e-01, 6.6525e-01, 7.4192e-01, 1.2199e-01,\n",
      "         5.1297e-01, 9.1278e-01, 1.6726e-01, 6.7389e-01],\n",
      "        [2.4620e-02, 1.3579e-01, 8.9730e-01, 4.2665e-01, 9.1125e-01, 5.4112e-01,\n",
      "         8.3432e-02, 6.2181e-01, 3.5715e-01, 9.0839e-01],\n",
      "        [7.8157e-01, 4.2150e-01, 1.3398e-01, 2.2757e-01, 1.5651e-01, 3.3007e-01,\n",
      "         2.8865e-01, 5.8835e-01, 5.9870e-01, 2.5836e-01],\n",
      "        [3.3019e-01, 4.4893e-01, 3.4365e-01, 8.8316e-01, 6.8107e-01, 2.7953e-01,\n",
      "         1.0766e-01, 1.2812e-01, 8.9059e-02, 9.7725e-01],\n",
      "        [5.2246e-01, 8.7406e-02, 5.6674e-02, 1.2820e-01, 9.8157e-01, 2.9050e-02,\n",
      "         9.6495e-01, 3.6935e-01, 2.4994e-01, 3.6368e-01],\n",
      "        [1.3009e-01, 2.5796e-01, 9.3519e-02, 2.6327e-01, 1.2215e-01, 3.7988e-01,\n",
      "         3.7282e-01, 2.1840e-01, 3.9420e-01, 6.1013e-01],\n",
      "        [1.2398e-01, 5.5192e-01, 8.7230e-01, 2.1951e-01, 8.8363e-01, 2.7373e-01,\n",
      "         1.3755e-01, 1.2685e-01, 4.7667e-01, 2.5307e-01],\n",
      "        [5.8345e-01, 3.2347e-01, 7.7674e-01, 7.8900e-02, 4.6776e-01, 7.3657e-01,\n",
      "         9.5926e-02, 7.5548e-01, 9.8555e-02, 7.0526e-02],\n",
      "        [8.7108e-01, 1.6635e-01, 2.2217e-01, 6.9494e-02, 3.5108e-01, 5.5030e-01,\n",
      "         8.3606e-01, 3.4766e-01, 3.8341e-01, 8.6264e-01],\n",
      "        [8.0955e-01, 9.6914e-02, 5.9612e-01, 3.6142e-01, 6.3496e-01, 8.1687e-01,\n",
      "         2.2463e-01, 1.4646e-01, 7.3411e-01, 3.0621e-01],\n",
      "        [8.1793e-01, 7.4778e-01, 4.1015e-02, 7.2284e-01, 5.0844e-02, 1.0239e-01,\n",
      "         8.4803e-01, 4.2877e-01, 1.8730e-01, 1.3601e-01],\n",
      "        [5.1015e-02, 8.4369e-01, 8.3970e-01, 1.9928e-01, 4.9015e-01, 1.5836e-01,\n",
      "         9.9847e-01, 1.2387e-01, 8.4665e-01, 4.0369e-01],\n",
      "        [2.3681e-01, 6.1216e-01, 3.9591e-01, 7.3225e-01, 8.2026e-01, 4.7333e-01,\n",
      "         9.8979e-01, 9.2456e-01, 6.7162e-01, 9.3492e-01],\n",
      "        [8.0424e-01, 6.8431e-01, 4.0983e-01, 5.0292e-01, 1.8905e-01, 4.8085e-01,\n",
      "         2.4941e-01, 3.0594e-01, 7.0420e-01, 5.5902e-02]])\n"
     ]
    }
   ],
   "source": [
    "input = torch.rand((4,8,10))\n",
    "B,T,C = input.shape\n",
    "output = input.view(B*T, C)\n",
    "print(output)\n",
    "#print(input)\n",
    "#print(output[:, -1, :])\n",
    "last_column = output[:, -1]"
   ]
  }
 ],
 "metadata": {
  "kernelspec": {
   "display_name": "deep_reinforcement_learning",
   "language": "python",
   "name": "python3"
  },
  "language_info": {
   "codemirror_mode": {
    "name": "ipython",
    "version": 3
   },
   "file_extension": ".py",
   "mimetype": "text/x-python",
   "name": "python",
   "nbconvert_exporter": "python",
   "pygments_lexer": "ipython3",
   "version": "3.9.18"
  }
 },
 "nbformat": 4,
 "nbformat_minor": 2
}
