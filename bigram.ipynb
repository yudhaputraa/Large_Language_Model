{
 "cells": [
  {
   "cell_type": "code",
   "execution_count": 1,
   "metadata": {},
   "outputs": [
    {
     "name": "stdout",
     "output_type": "stream",
     "text": [
      "cuda\n"
     ]
    }
   ],
   "source": [
    "import torch\n",
    "import torch.nn as nn\n",
    "from torch.nn import functional as F\n",
    "\n",
    "# melihat perangkat GPU\n",
    "device = 'cuda' if torch.cuda.is_available() else 'cpu'\n",
    "print(device)\n",
    "blok_size = 8\n",
    "batch_size = 4"
   ]
  },
  {
   "cell_type": "code",
   "execution_count": 2,
   "metadata": {},
   "outputs": [
    {
     "name": "stdout",
     "output_type": "stream",
     "text": [
      "['\\n', ' ', '!', '\"', '&', \"'\", '(', ')', '*', ',', '-', '.', '0', '1', '2', '3', '4', '5', '6', '7', '8', '9', ':', ';', '?', 'A', 'B', 'C', 'D', 'E', 'F', 'G', 'H', 'I', 'J', 'K', 'L', 'M', 'N', 'O', 'P', 'Q', 'R', 'S', 'T', 'U', 'V', 'W', 'X', 'Y', 'Z', '[', ']', '_', 'a', 'b', 'c', 'd', 'e', 'f', 'g', 'h', 'i', 'j', 'k', 'l', 'm', 'n', 'o', 'p', 'q', 'r', 's', 't', 'u', 'v', 'w', 'x', 'y', 'z', '\\ufeff']\n",
      "81\n"
     ]
    }
   ],
   "source": [
    "with open('wizard_of_oz.txt', 'r', encoding='utf-8') as f:\n",
    "    text = f.read()\n",
    "\n",
    "chars = sorted(set(text))\n",
    "print(chars)\n",
    "print(len(chars))\n",
    "vocab_size = len(chars)"
   ]
  },
  {
   "cell_type": "code",
   "execution_count": 3,
   "metadata": {},
   "outputs": [
    {
     "name": "stdout",
     "output_type": "stream",
     "text": [
      "tensor([80,  1,  1, 28, 39, 42, 39, 44, 32, 49,  1, 25, 38, 28,  1, 44, 32, 29,\n",
      "         1, 47, 33, 50, 25, 42, 28,  1, 33, 38,  1, 39, 50,  0,  0,  1,  1, 26,\n",
      "        49,  0,  0,  1,  1, 36, 11,  1, 30, 42, 25, 38, 35,  1, 26, 25, 45, 37,\n",
      "         0,  0,  1,  1, 25, 45, 44, 32, 39, 42,  1, 39, 30,  1, 44, 32, 29,  1,\n",
      "        47, 33, 50, 25, 42, 28,  1, 39, 30,  1, 39, 50,  9,  1, 44, 32, 29,  1,\n",
      "        36, 25, 38, 28,  1, 39, 30,  1, 39, 50])\n"
     ]
    }
   ],
   "source": [
    "string_to_int = { ch:i for i, ch in enumerate(chars) }\n",
    "int_to_string = { i:ch for i, ch in enumerate(chars) }\n",
    "encode = lambda s: [string_to_int[c] for c in s]\n",
    "decode = lambda l: ''.join([int_to_string[i] for i in l])\n",
    "\n",
    "data = torch.tensor(encode(text), dtype=torch.long)\n",
    "print(data[:100])"
   ]
  },
  {
   "cell_type": "code",
   "execution_count": 4,
   "metadata": {},
   "outputs": [
    {
     "name": "stdout",
     "output_type": "stream",
     "text": [
      "tensor([105738, 140530,  38434, 136609])\n",
      "tensor([[58,  1, 73, 68,  1, 66, 54, 64],\n",
      "        [65, 59,  1, 68, 59,  1, 58, 54],\n",
      "        [68, 71, 58,  1, 73, 61, 54, 67],\n",
      "        [ 1, 73, 61, 58, 66,  1, 62, 67]])\n",
      "tensor([[ 1, 73, 68,  1, 66, 54, 64, 58],\n",
      "        [59,  1, 68, 59,  1, 58, 54, 56],\n",
      "        [71, 58,  1, 73, 61, 54, 67,  1],\n",
      "        [73, 61, 58, 66,  1, 62, 67,  1]])\n",
      "inputs : \n",
      "tensor([[58,  1, 73, 68,  1, 66, 54, 64],\n",
      "        [65, 59,  1, 68, 59,  1, 58, 54],\n",
      "        [68, 71, 58,  1, 73, 61, 54, 67],\n",
      "        [ 1, 73, 61, 58, 66,  1, 62, 67]], device='cuda:0')\n",
      "targets : \n",
      "tensor([[ 1, 73, 68,  1, 66, 54, 64, 58],\n",
      "        [59,  1, 68, 59,  1, 58, 54, 56],\n",
      "        [71, 58,  1, 73, 61, 54, 67,  1],\n",
      "        [73, 61, 58, 66,  1, 62, 67,  1]], device='cuda:0')\n"
     ]
    }
   ],
   "source": [
    "n = int(0.8*len(data))\n",
    "train_data = data[:n]\n",
    "val_data = data[n:]\n",
    "\n",
    "def get_bacth(split):\n",
    "    data = train_data if split == 'train' else val_data\n",
    "    ix = torch.randint(len(data) - blok_size, (batch_size,))\n",
    "    print(ix)\n",
    "    x = torch.stack([data[i:i+blok_size] for i in ix])\n",
    "    print(x)\n",
    "    y = torch.stack([data[i+1:i+blok_size+1] for i in ix])\n",
    "    print(y)\n",
    "    x, y = x.to(device), y.to(device)\n",
    "    return x, y\n",
    "\n",
    "x, y = get_bacth('train')\n",
    "print('inputs : ')\n",
    "# print(x.shape)\n",
    "print(x)\n",
    "print('targets : ')\n",
    "print(y)"
   ]
  },
  {
   "cell_type": "code",
   "execution_count": 5,
   "metadata": {},
   "outputs": [
    {
     "name": "stdout",
     "output_type": "stream",
     "text": [
      "when input is tensor([80]) target is tensor(1)\n",
      "when input is tensor([80,  1]) target is tensor(1)\n",
      "when input is tensor([80,  1,  1]) target is tensor(28)\n",
      "when input is tensor([80,  1,  1, 28]) target is tensor(39)\n",
      "when input is tensor([80,  1,  1, 28, 39]) target is tensor(42)\n",
      "when input is tensor([80,  1,  1, 28, 39, 42]) target is tensor(39)\n",
      "when input is tensor([80,  1,  1, 28, 39, 42, 39]) target is tensor(44)\n",
      "when input is tensor([80,  1,  1, 28, 39, 42, 39, 44]) target is tensor(32)\n"
     ]
    }
   ],
   "source": [
    "\n",
    "\n",
    "x = train_data[:blok_size]\n",
    "y = train_data[1:blok_size+1]\n",
    "\n",
    "for t in range(blok_size):\n",
    "    context = x[:t+1]\n",
    "    target = y[t]\n",
    "    print('when input is',context, 'target is', target)"
   ]
  },
  {
   "cell_type": "code",
   "execution_count": 6,
   "metadata": {},
   "outputs": [],
   "source": [
    "# class BigramLanguageModel(nn.Module):\n",
    "#     def __init__(self, vocab_size):\n",
    "#         super().__init__()\n",
    "#         self.token_embeddings_table = nn.Embedding(vocab_size, vocab_size)\n",
    "\n",
    "#     def forward(self, index, targets):\n",
    "#         logits = self.token_embeddings_table(index)\n",
    "#         B,T,C = logits.shape\n",
    "#         logits = logits.view(B*T,C)\n",
    "#         targets = targets.view(B*T)\n",
    "#         loss = F.cross_entropy(logits, targets)\n",
    "\n",
    "#         return logits"
   ]
  },
  {
   "cell_type": "code",
   "execution_count": 12,
   "metadata": {},
   "outputs": [
    {
     "name": "stdout",
     "output_type": "stream",
     "text": [
      "\n",
      "Uv:pTUP tZ﻿p2zyMMEdBYJ7W8oLt*;S5?xTo_X&vbuLgFhlZ[u'o2OX(:2L*2gfz?3vc[6I!Y.np52xkw\n",
      "U[9([u)nAXT)gG&SbVKvKKTDkb﻿muo&\n",
      "'6Uhv4lw﻿DYNi;RP20\"Q\"_:aFpX8620 ([s?084nhsptC'yXER?!5pzMT:Wln7Jk ,13UPN,XX1H(d'0]jAZIuQ:QPMbCK7Z]J?2d3Y?]\n",
      "gNWvICVJ,NJ[HyU4d.q(oGYr*b9[IR?N[U WPX0 npQCZP VW1&4gBr8TwKvyKws9O3I5.MDZc7'?uxxJ9k'X*z﻿,j]u)GcjVZz,e0Wa;_)kdN5w96'juyW8R?;)dnw?gGzmav.;fEZ[J*20X,V,a_6odNWT&UmhluDendjwzp \n",
      "u)b﻿\"Btb!KFlt[\"XhpzWWgI!01Tsk7\"s&&-FeAw9\"xhmT'&ZP]QltpNlOQvW7\"uLBI1U-zQ:p5pw.yUb.'dGgKZk_,*'gQfN;N0IPpy)*T3y\n"
     ]
    }
   ],
   "source": [
    "class BigramLanguageModel(nn.Module):\n",
    "    def __init__(self, vocab_size):\n",
    "        super().__init__()\n",
    "        self.token_embedding_table = nn.Embedding(vocab_size, vocab_size)\n",
    "\n",
    "    def forward(self, index, targets=None):\n",
    "        logits = self.token_embedding_table(index)\n",
    "\n",
    "        if targets is None:\n",
    "            loss = None\n",
    "        else:\n",
    "            B,T,C = logits.shape\n",
    "            logits = logits.view(B*T,C)\n",
    "            targets = target.view(B*T)\n",
    "            loss = F.cross_entropy(logits, targets)\n",
    "\n",
    "        return logits, loss\n",
    "    \n",
    "    def generate(self, index, max_new_tokens):\n",
    "        # index is (B, T) array of indices in the current context\n",
    "        for _ in range(max_new_tokens):\n",
    "            # get the predictions\n",
    "            logits, loss = self.forward(index)\n",
    "            # fokus only on the last time step\n",
    "            logits = logits[:, -1, :] # become (B, C)\n",
    "            # apply softmax to get probabilities\n",
    "            probs = F.softmax(logits, dim=-1) # (B, C)\n",
    "            # sample from the distribution\n",
    "            index_next = torch.multinomial(probs, num_samples=1) # (B,1)\n",
    "            # append samples index to the running sequence\n",
    "            index = torch.cat((index, index_next), dim=1) # (B, T+1)\n",
    "        return index\n",
    "    \n",
    "model = BigramLanguageModel(vocab_size)\n",
    "m = model.to(device)\n",
    "\n",
    "context = torch.zeros((1,1), dtype=torch.long, device=device)\n",
    "generated_chars = decode(m.generate(context, max_new_tokens=500)[0].tolist())\n",
    "print(generated_chars)"
   ]
  },
  {
   "cell_type": "code",
   "execution_count": null,
   "metadata": {},
   "outputs": [],
   "source": []
  }
 ],
 "metadata": {
  "kernelspec": {
   "display_name": "deep_reinforcement_learning",
   "language": "python",
   "name": "python3"
  },
  "language_info": {
   "codemirror_mode": {
    "name": "ipython",
    "version": 3
   },
   "file_extension": ".py",
   "mimetype": "text/x-python",
   "name": "python",
   "nbconvert_exporter": "python",
   "pygments_lexer": "ipython3",
   "version": "3.9.18"
  }
 },
 "nbformat": 4,
 "nbformat_minor": 2
}
